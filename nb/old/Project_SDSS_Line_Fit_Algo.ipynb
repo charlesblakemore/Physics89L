{
 "cells": [
  {
   "cell_type": "code",
   "execution_count": null,
   "id": "2649d062",
   "metadata": {},
   "outputs": [],
   "source": [
    "%matplotlib inline\n",
    "import matplotlib.pyplot as plt\n",
    "import numpy as np\n",
    "import scipy.stats as stats\n",
    "import scipy.optimize as optimize\n",
    "import datetime"
   ]
  },
  {
   "cell_type": "markdown",
   "id": "3de3f1bb",
   "metadata": {},
   "source": [
    "# Project:  writing and testing an algorithm to pick initial parameters for a fit\n",
    "\n",
    "Recall that in notebook '06_02_SDSS_Specta' we did fit to a spectral line in the SDSS data that included both a  signal and a background part in the model.\n",
    "\n",
    "Recall also that we picked initial values for the fit parameters looking at the plot at estimating values, and that there was a question about how you might write an algorithm to guess the initial parameters automatically.\n",
    "\n",
    "This is your chance to do that.\n",
    "\n",
    "This notebook has the pieces you will need to do that.\n",
    "\n",
    "Some goals for this project might include:\n",
    "\n",
    "1. Write a function to extract initial guesses for the fit parameters.\n",
    "\n",
    "2. Test the function out on a few different peaks\n",
    "\n",
    "3. Estiamte how close you have to be to the correct values of the parameters for the fitter to succeed. "
   ]
  },
  {
   "cell_type": "markdown",
   "id": "1cda4035",
   "metadata": {},
   "source": [
    "### Cell to read in the data and put it into two arrays"
   ]
  },
  {
   "cell_type": "code",
   "execution_count": null,
   "id": "1925e6b8",
   "metadata": {},
   "outputs": [],
   "source": [
    "data = np.loadtxt(open(\"../data/sds_galaxy.txt\", 'rb'), usecols=range(4))\n",
    "\n",
    "# This is how we pull out the data from columns in the array.\n",
    "\n",
    "# They put the data in Angstroms, lets use nano-meters instead, 1 Angstrom = 0.1 nm. \n",
    "wavelength = data[:,0] / 10.\n",
    "flux = data[:,1]\n",
    "#best_fit = data[:,2]\n",
    "#sky_flux = data[:,3]"
   ]
  },
  {
   "cell_type": "markdown",
   "id": "fa4d45cb",
   "metadata": {},
   "source": [
    "### Function to select a sub-set of the data over a smaller set of wavelengths"
   ]
  },
  {
   "cell_type": "code",
   "execution_count": null,
   "id": "7554caa4",
   "metadata": {},
   "outputs": [],
   "source": [
    "def selectData(wavelength, flux, lamb_lo, lamb_hi):\n",
    "    idx_lo = np.searchsorted(wavelength, lamb_lo)\n",
    "    idx_hi = np.searchsorted(wavelength, lamb_hi)\n",
    "    return wavelength[idx_lo:idx_hi], flux[idx_lo:idx_hi]"
   ]
  },
  {
   "cell_type": "markdown",
   "id": "a7cc9a60",
   "metadata": {},
   "source": [
    "### Functions used to define the model and the cost function"
   ]
  },
  {
   "cell_type": "code",
   "execution_count": null,
   "id": "311e1402",
   "metadata": {},
   "outputs": [],
   "source": [
    "from functools import partial\n",
    "\n",
    "def Gauss(x, prefact, mu, sigma):\n",
    "    return prefact*stats.norm(loc=mu, scale=sigma).pdf(x)\n",
    "\n",
    "def poly1(x, ref_lambda, offset, slope):\n",
    "    return offset + (x-ref_lambda)*slope\n",
    "\n",
    "def model_func(x, ref_lambda, prefact, mu, sigma, offset, slope):\n",
    "    return Gauss(x, prefact, mu, sigma) + poly1(x, ref_lambda, offset, slope)\n",
    "\n",
    "def generic_chi2(params, data_vals, model, x, ref_lambda):\n",
    "    model_vals = model(x, ref_lambda, *params)\n",
    "    return np.sum((data_vals - model_vals)**2)\n",
    "\n",
    "def cost_func(data_vals, model, x, ref_lambda):\n",
    "    return partial(generic_chi2, data_vals=data_vals, model=model, x=x, ref_lambda=ref_lambda)"
   ]
  },
  {
   "cell_type": "markdown",
   "id": "5d68197f",
   "metadata": {},
   "source": [
    "### Function to overplot the model on the data"
   ]
  },
  {
   "cell_type": "code",
   "execution_count": null,
   "id": "b37d5b09",
   "metadata": {},
   "outputs": [],
   "source": [
    "def plotModels(cutout_wl, cutout_flux, ref_lambda, init_pars):\n",
    "    \n",
    "    model_vals = model_func(cutout_wl, ref_lambda, *init_pars)\n",
    "    background_vals = poly1(cutout_wl, ref_lambda, init_pars[3], init_pars[4])\n",
    "\n",
    "    _ = plt.plot(cutout_wl, cutout_flux, label=\"data\")\n",
    "    _ = plt.plot(cutout_wl, background_vals, label=\"background model\")\n",
    "    _ = plt.plot(cutout_wl, model_vals, label=\"model\")\n",
    "    _ = plt.xlabel(r'$\\lambda [nm]$')\n",
    "    _ = plt.ylabel(r'Flux [arcane units]')\n",
    "    _ = plt.legend()"
   ]
  },
  {
   "cell_type": "markdown",
   "id": "06c95bd4",
   "metadata": {},
   "source": [
    "### Function to define the cost function, fit the data, and plot the result"
   ]
  },
  {
   "cell_type": "code",
   "execution_count": null,
   "id": "edeea190",
   "metadata": {},
   "outputs": [],
   "source": [
    "def fitAndPlotResult(cutout_wl, cutout_flux, ref_lambda, init_pars):\n",
    "    our_cost_func = cost_func(cutout_flux, model_func, cutout_wl, ref_lambda=ref_lambda)\n",
    "    result = optimize.minimize(our_cost_func, x0=np.array(init_pars))\n",
    "    fit_pars = result['x']\n",
    "    model_fit = model_func(cutout_wl, ref_lambda, *fit_pars)\n",
    "    background_fit = poly1(cutout_wl, ref_lambda, fit_pars[3], fit_pars[4])\n",
    "    print(\"Best Fit ---------\")\n",
    "    print(\"Line Intensity: %.1f [arcane units]\" % fit_pars[0])\n",
    "    print(\"Line Peak: %.4f [nm]\" % fit_pars[1])\n",
    "    print(\"Line Width: %.4f [nm]\" % fit_pars[2])\n",
    "    print(\"Background at 500 nm: %.2f [arcane units]\" % fit_pars[3])\n",
    "    print(\"Background slope: %.2f [arcane_units / nm]\" % fit_pars[4])\n",
    "    _ = plt.plot(cutout_wl, cutout_flux, label=\"data\")\n",
    "    _ = plt.plot(cutout_wl, background_fit, label=\"background model\")\n",
    "    _ = plt.plot(cutout_wl, model_fit, label=\"full model\")\n",
    "    _ = plt.xlabel(r\"$\\lambda [nm]$\")\n",
    "    _ = plt.ylabel(\"Flux [arcane units]\")\n",
    "    _ = plt.legend()"
   ]
  },
  {
   "cell_type": "markdown",
   "id": "3446fe2a",
   "metadata": {},
   "source": [
    "# Lets have a look at the complete spectrum"
   ]
  },
  {
   "cell_type": "code",
   "execution_count": null,
   "id": "088acd2c",
   "metadata": {},
   "outputs": [],
   "source": [
    "_ = plt.plot(wavelength, flux)\n",
    "_ = plt.xlabel(r\"$\\lambda [nm]$\")\n",
    "_ = plt.ylabel(\"Flux [arcane units]\")\n",
    "_ = plt.title(\"A spectrum from SDSS\")"
   ]
  },
  {
   "cell_type": "markdown",
   "id": "7872a952",
   "metadata": {},
   "source": [
    "# Now let's select a cutout of the data and have a look at that"
   ]
  },
  {
   "cell_type": "code",
   "execution_count": null,
   "id": "4d7ee682",
   "metadata": {},
   "outputs": [],
   "source": [
    "cutout_wl, cutout_flux = selectData(wavelength, flux, 480, 515)\n",
    "_ = plt.plot(cutout_wl, cutout_flux)\n",
    "_ = plt.xlabel(r\"$\\lambda [nm]$\")\n",
    "_ = plt.ylabel(\"Flux [arcane units]\")"
   ]
  },
  {
   "cell_type": "markdown",
   "id": "a6a62ab1",
   "metadata": {},
   "source": [
    "# Setting the reference wavelenght (i.e., the reference point for the background line)\n",
    "\n",
    "Because we want to be able to look at other peaks as well, and because we learned that if we want to fit a line it is smart to pick a reference x-axis value in the middle of the data, I've changed the model function a tiny bit, to \n",
    "let you set the reference point, if you look at the cell that defines the model you can see that the polynomical is \n",
    "`offset + (x-ref_lambda)*slope` instead of `offset + (x-500)*slope` as it was in the original notebook.\n",
    "\n"
   ]
  },
  {
   "cell_type": "code",
   "execution_count": null,
   "id": "90ceb1cc",
   "metadata": {},
   "outputs": [],
   "source": [
    "ref_lambda=500"
   ]
  },
  {
   "cell_type": "markdown",
   "id": "160251dd",
   "metadata": {},
   "source": [
    "# Setting the intial guess parameters"
   ]
  },
  {
   "cell_type": "code",
   "execution_count": null,
   "id": "c5c65497",
   "metadata": {},
   "outputs": [],
   "source": [
    "prefact_0 = 235.\n",
    "mu_0 = 505.8\n",
    "sigma_0 = 0.25\n",
    "offset_0 = 60\n",
    "slope_0 = 0\n",
    "\n",
    "init_pars = (prefact_0, mu_0, sigma_0, offset_0, slope_0)"
   ]
  },
  {
   "cell_type": "markdown",
   "id": "08237925",
   "metadata": {},
   "source": [
    "# Plotting the initial guess model and the data"
   ]
  },
  {
   "cell_type": "code",
   "execution_count": null,
   "id": "58ba30f3",
   "metadata": {},
   "outputs": [],
   "source": [
    "plotModels(cutout_wl, cutout_flux, ref_lambda, init_pars)"
   ]
  },
  {
   "cell_type": "markdown",
   "id": "fd312a7f",
   "metadata": {},
   "source": [
    "# Fitting the data an replotting the result"
   ]
  },
  {
   "cell_type": "code",
   "execution_count": null,
   "id": "a8718f2b",
   "metadata": {},
   "outputs": [],
   "source": [
    "fitAndPlotResult(cutout_wl, cutout_flux, ref_lambda, init_pars)"
   ]
  },
  {
   "cell_type": "markdown",
   "id": "1ec61530",
   "metadata": {},
   "source": [
    "# A function that might be useful: `np.argmax`"
   ]
  },
  {
   "cell_type": "code",
   "execution_count": null,
   "id": "481c9fb4",
   "metadata": {},
   "outputs": [],
   "source": [
    "print(\"The index of the largest bin is: \", np.argmax(cutout_flux))\n",
    "print(\"The flux value in the largest bin is: \", cutout_flux[np.argmax(cutout_flux)])"
   ]
  },
  {
   "cell_type": "code",
   "execution_count": null,
   "id": "a1f2643b",
   "metadata": {},
   "outputs": [],
   "source": []
  },
  {
   "cell_type": "code",
   "execution_count": null,
   "id": "3c9a2650",
   "metadata": {},
   "outputs": [],
   "source": []
  }
 ],
 "metadata": {
  "kernelspec": {
   "display_name": "Python 3 (ipykernel)",
   "language": "python",
   "name": "python3"
  },
  "language_info": {
   "codemirror_mode": {
    "name": "ipython",
    "version": 3
   },
   "file_extension": ".py",
   "mimetype": "text/x-python",
   "name": "python",
   "nbconvert_exporter": "python",
   "pygments_lexer": "ipython3",
   "version": "3.9.12"
  }
 },
 "nbformat": 4,
 "nbformat_minor": 5
}
